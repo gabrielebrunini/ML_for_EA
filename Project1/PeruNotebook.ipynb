{
 "cells": [
  {
   "cell_type": "markdown",
   "metadata": {
    "id": "egFD4s8c9Q_q"
   },
   "source": [
    "# Libraries\n",
    "Pandas, Matplotlib, Numpy, Sklearn"
   ]
  },
  {
   "cell_type": "code",
   "execution_count": null,
   "metadata": {
    "id": "VWmZGfdcE7Y1"
   },
   "outputs": [],
   "source": [
    "import pandas as pd\n",
    "%matplotlib inline\n",
    "import matplotlib.pyplot as plt\n",
    "from pprint import pprint\n",
    "import numpy as np\n",
    "np.set_printoptions(precision=2)"
   ]
  },
  {
   "cell_type": "markdown",
   "metadata": {
    "id": "jCzVk1cgEuLg"
   },
   "source": [
    "Sklearn"
   ]
  },
  {
   "cell_type": "code",
   "execution_count": null,
   "metadata": {
    "id": "bOsIdVnKA4di"
   },
   "outputs": [],
   "source": [
    "from sklearn import svm, datasets, linear_model\n",
    "from sklearn.model_selection import train_test_split\n",
    "from sklearn.metrics import mean_absolute_error, mean_squared_error, r2_score, confusion_matrix\n",
    "from sklearn.feature_selection import RFE\n",
    "from sklearn.model_selection import GridSearchCV, KFold\n",
    "from sklearn.linear_model import Ridge, LinearRegression\n",
    "from sklearn.ensemble import RandomForestRegressor\n",
    "from sklearn.model_selection import RandomizedSearchCV\n",
    "from sklearn.model_selection import GridSearchCV\n",
    "from sklearn.utils.multiclass import unique_labels\n",
    "from sklearn.preprocessing import scale\n",
    "from sklearn.model_selection import RepeatedKFold\n",
    "from sklearn.model_selection import cross_val_score\n",
    "from sklearn.linear_model import Lasso\n",
    "from sklearn.preprocessing import scale\n",
    "from sklearn import linear_model"
   ]
  },
  {
   "cell_type": "markdown",
   "metadata": {
    "id": "2pODi1Ym9Dnz"
   },
   "source": [
    "# Data\n",
    "Cleaning & Descriptive Statistics"
   ]
  },
  {
   "cell_type": "markdown",
   "metadata": {
    "id": "tYeopgWH9Flv"
   },
   "source": [
    "## Data Import"
   ]
  },
  {
   "cell_type": "markdown",
   "metadata": {
    "id": "JWcJaGt39ulC"
   },
   "source": [
    "Importing"
   ]
  },
  {
   "cell_type": "code",
   "execution_count": null,
   "metadata": {
    "colab": {
     "base_uri": "https://localhost:8080/",
     "height": 253
    },
    "id": "o-uVqgM29Wnv",
    "outputId": "05e7511b-91e2-413e-e7cf-452116e3696f"
   },
   "outputs": [],
   "source": [
    "url = 'https://drive.google.com/file/d/1wk5pql6ML6jIi1h7aIS3bIUVZ9M3E5xs/view?usp=sharing'\n",
    "path = 'https://drive.google.com/uc?export=download&id='+url.split('/')[-2]\n",
    "df = pd.read_csv(path)\n",
    "df.sample(5)"
   ]
  },
  {
   "cell_type": "markdown",
   "metadata": {
    "id": "zVLGItzdEPfS"
   },
   "source": [
    "Checking the features"
   ]
  },
  {
   "cell_type": "code",
   "execution_count": null,
   "metadata": {
    "colab": {
     "base_uri": "https://localhost:8080/",
     "height": 439
    },
    "id": "vxukTDNuZDmz",
    "outputId": "6c452ff5-e970-4d96-f207-0cbe727c1677"
   },
   "outputs": [],
   "source": [
    "df[df[\"lnpercapitaconsumption\"].isnull()]"
   ]
  },
  {
   "cell_type": "markdown",
   "metadata": {
    "id": "JiAjAvB2-0zK"
   },
   "source": [
    "Checking the role of dummy variables for the category \"fuel\""
   ]
  },
  {
   "cell_type": "code",
   "execution_count": null,
   "metadata": {
    "colab": {
     "base_uri": "https://localhost:8080/",
     "height": 142
    },
    "id": "GDh-AQLt-58O",
    "outputId": "dacf54ee-4443-404c-e40e-df70a621f8b6"
   },
   "outputs": [],
   "source": [
    "df.iloc[0:3, 1:8]"
   ]
  },
  {
   "cell_type": "markdown",
   "metadata": {
    "id": "QgIJKl1u_XPL"
   },
   "source": [
    "Checking the role of dummy variables for the category \"water\""
   ]
  },
  {
   "cell_type": "code",
   "execution_count": null,
   "metadata": {
    "colab": {
     "base_uri": "https://localhost:8080/",
     "height": 142
    },
    "id": "8ZcOuLLw_adZ",
    "outputId": "1a761c8c-f8b0-4755-9de0-79a6009013b9"
   },
   "outputs": [],
   "source": [
    "df.iloc[0:3, 8:15]"
   ]
  },
  {
   "cell_type": "markdown",
   "metadata": {
    "id": "MtSGeZSN9HYA"
   },
   "source": [
    "## Data Processing"
   ]
  },
  {
   "cell_type": "code",
   "execution_count": null,
   "metadata": {
    "id": "fDFf6l4cKvGu"
   },
   "outputs": [],
   "source": [
    "# for later use \n",
    "df_later = df[['training', 'percapitaconsumption', 'poor', 'h_hhsize','id_for_matlab', 'hhid', 'lncaphat_OLS', 'percapitahat_OLS']]\n",
    "df_later = df_later[:23152]"
   ]
  },
  {
   "cell_type": "markdown",
   "metadata": {
    "id": "xRiUo-cdaIf9"
   },
   "source": [
    "Taking dummy-variable trap into consideration for linear regression\n",
    "\n",
    "---\n",
    "\n",
    "Don't take dummy-variable trap into consideration for RF --> Skip\n"
   ]
  },
  {
   "cell_type": "code",
   "execution_count": null,
   "metadata": {
    "colab": {
     "base_uri": "https://localhost:8080/"
    },
    "id": "uJ5fT9H3HR36",
    "outputId": "2fb6ab22-6d87-4e15-9114-8565b2ab2bb8"
   },
   "outputs": [],
   "source": [
    "df = df.drop(['d_crowd_lessthan1', 'd_lux_0','d_fuel_other','d_water_other','d_wall_other','d_roof_other','d_floor_other','d_h_educ_none','d_insurance_0'], axis=1)\n",
    "print(\"After dropping: The dimensions of the dataframe are: \", df.shape)"
   ]
  },
  {
   "cell_type": "code",
   "execution_count": null,
   "metadata": {
    "id": "T05lPbCJaH1c"
   },
   "outputs": [],
   "source": [
    "df = df.drop(['training', 'percapitaconsumption', 'poor', 'h_hhsize','id_for_matlab', 'hhid', 'lncaphat_OLS', 'percapitahat_OLS'], axis=1)\n",
    "df = df.drop([], axis=1)"
   ]
  },
  {
   "cell_type": "markdown",
   "metadata": {
    "id": "rQg83eKPEbOW"
   },
   "source": [
    "Identifying NaN"
   ]
  },
  {
   "cell_type": "code",
   "execution_count": null,
   "metadata": {
    "colab": {
     "base_uri": "https://localhost:8080/"
    },
    "id": "dtNZ4YiiEclb",
    "outputId": "9ff0ea58-bcaa-4736-8cde-6e0f2a0fece2"
   },
   "outputs": [],
   "source": [
    "df.isnull().sum().sort_values(ascending = False)"
   ]
  },
  {
   "cell_type": "markdown",
   "metadata": {
    "id": "otdYS-wIEXJF"
   },
   "source": [
    "Since most of the NaN represent the outcome variable, it does not make sense to keep these observations. Hence, we are dropping all observations containing any kind of NaN. "
   ]
  },
  {
   "cell_type": "code",
   "execution_count": null,
   "metadata": {
    "colab": {
     "base_uri": "https://localhost:8080/"
    },
    "id": "dOVq4oibEYTn",
    "outputId": "ad61ce37-0629-4a53-c2f3-120c67d04c3a"
   },
   "outputs": [],
   "source": [
    "print(\"Before dropping NAs:\")\n",
    "print(df.shape)\n",
    "# creating prediction set before dropping NA\n",
    "dfPred = df[:23152]\n",
    "print(\"\\nPrediction Set:\")\n",
    "print(dfPred.shape)\n",
    "# dropping NA\n",
    "df = df.dropna() \n",
    "print(\"\\nTraining Set:\")\n",
    "print(df.shape)"
   ]
  },
  {
   "cell_type": "markdown",
   "metadata": {
    "id": "L0_XVR9L9KKm"
   },
   "source": [
    "# Machine Learning Techniques\n",
    "Data Splitting & Algorithms"
   ]
  },
  {
   "cell_type": "markdown",
   "metadata": {
    "id": "li4cvVevCAX7"
   },
   "source": [
    "## Data Splitting"
   ]
  },
  {
   "cell_type": "markdown",
   "metadata": {
    "id": "D6I8xsEeDaym"
   },
   "source": [
    "Training Data Partitioning \n",
    "- 80% Train\n",
    "- 20% Validation"
   ]
  },
  {
   "cell_type": "code",
   "execution_count": null,
   "metadata": {
    "colab": {
     "base_uri": "https://localhost:8080/"
    },
    "id": "IEl_bjxVCB-f",
    "outputId": "68606753-18a4-4454-92c7-1085ac98036d"
   },
   "outputs": [],
   "source": [
    "X = df.iloc[:, df.columns!=\"lnpercapitaconsumption\"]\n",
    "y = df.loc[:, \"lnpercapitaconsumption\"]\n",
    "\n",
    "from sklearn.model_selection import train_test_split\n",
    "X_train, X_test, y_train, y_test = train_test_split(X, y, test_size = .2 , random_state=4)\n",
    "\n",
    "print(\"Dimensions of the train set: \")\n",
    "print(X_train.shape)\n",
    "print(y_train.shape)\n",
    "print(\"\")\n",
    "print(\"Dimensions of the test set: \")\n",
    "print(X_test.shape)\n",
    "print(y_test.shape)"
   ]
  },
  {
   "cell_type": "markdown",
   "metadata": {
    "id": "Kvq1YkxaCh1X"
   },
   "source": [
    "## Machine Learning Algorithm\n",
    "Predictions Methods"
   ]
  },
  {
   "cell_type": "markdown",
   "metadata": {
    "id": "13sbCbnmCmHu"
   },
   "source": [
    "### Random Forest"
   ]
  },
  {
   "cell_type": "code",
   "execution_count": null,
   "metadata": {
    "colab": {
     "base_uri": "https://localhost:8080/"
    },
    "id": "fGbeQ8YzCAZ1",
    "outputId": "8a3e21f7-8729-4e38-ec84-cccc2dd06053"
   },
   "outputs": [],
   "source": [
    "# saving n. of columns\n",
    "p = np.shape(df)[1]\n",
    "print(p)\n",
    "rf_default = RandomForestRegressor(random_state = 4)"
   ]
  },
  {
   "cell_type": "code",
   "execution_count": null,
   "metadata": {
    "id": "p4rvWa7OCCNJ"
   },
   "outputs": [],
   "source": [
    "# function for model evaluation\n",
    "def evaluate(model, test_features, test_labels, y_pred):\n",
    "    predictions = model.predict(test_features)\n",
    "    errors = abs(predictions - test_labels)\n",
    "    mape = 100 * np.mean(errors / test_labels)\n",
    "    accuracy = 100 - mape\n",
    "    print(\"Model Performance:\\n\")\n",
    "    print(\"Accuracy: {:0.2f}%\".format(accuracy))\n",
    "    print(\"Mean Absolute Error:\", mean_absolute_error(test_labels, y_pred))\n",
    "    print(\"Mean Squared Error:\", mean_squared_error(test_labels, y_pred))\n",
    "    print(\"Root Mean Squared Error:\", np.sqrt(mean_squared_error(test_labels, y_pred)))"
   ]
  },
  {
   "cell_type": "markdown",
   "metadata": {
    "id": "eOLe_lLUehiA"
   },
   "source": [
    "##### maxDepth model Grid Search"
   ]
  },
  {
   "cell_type": "markdown",
   "metadata": {
    "id": "sGM7B6ysV4tX"
   },
   "source": [
    "maxDepth RF Hyperparameter Tuning"
   ]
  },
  {
   "cell_type": "code",
   "execution_count": null,
   "metadata": {
    "id": "A0XVqMAfIddy"
   },
   "outputs": [],
   "source": [
    "# Random Hyperparameter Grid MaxDEPTH\n",
    "\n",
    "# Number of trees in random forest; 4 tests: 500 to 2000 trees in steps of 500\n",
    "n_estimators = [int(x) for x in np.linspace(start = 1000, stop = 2000, num = 6)]\n",
    "# Maximum number of levels in tree\n",
    "max_depth = [int(x) for x in np.linspace(50, 60, num = 2)]\n",
    "max_depth.append(None)\n",
    "# Number of features to consider at every split; 4 tests\n",
    "max_features = [int(p/ 2.0), 'sqrt', \"log2\"]\n",
    "# Minimum number of samples required at each leaf node; 3 tests\n",
    "min_samples_leaf = [1, 2, 4]\n",
    "# Minimum number of samples required to split a node; 2 tests\n",
    "min_samples_split = [2, 5, 10]\n",
    "# Method of selecting samples for training each tree; 1 test\n",
    "bootstrap = [True]"
   ]
  },
  {
   "cell_type": "code",
   "execution_count": null,
   "metadata": {
    "id": "bhzI5V9mbkYl"
   },
   "outputs": [],
   "source": [
    "random_grid = {\"n_estimators\": n_estimators,\n",
    "               \"max_features\": max_features,\n",
    "               \"min_samples_leaf\": min_samples_leaf,\n",
    "               \"min_samples_split\":min_samples_split,\n",
    "               \"bootstrap\": bootstrap}"
   ]
  },
  {
   "cell_type": "code",
   "execution_count": null,
   "metadata": {
    "colab": {
     "base_uri": "https://localhost:8080/",
     "height": 392
    },
    "id": "tiEPhJtQbkUa",
    "outputId": "06eaa367-b6db-42f3-ff76-6edb52d83ef1"
   },
   "outputs": [],
   "source": [
    "# Training Random Search of Hyperparameter\n",
    "# Use the random grid to search for best hyperparameters\n",
    "# Random search of parameters, using 3 fold cross validation, \n",
    "# search across 100 different combinations, and use all available cores, (-> not more due to computation time!)\n",
    "rf_random = RandomizedSearchCV(estimator = rf_default, param_distributions = random_grid, n_iter = 100, cv = 3, verbose=7, random_state=4, n_jobs = -1)\n",
    "# Fit the random search model\n",
    "rf_random.fit(X_train,y_train)"
   ]
  },
  {
   "cell_type": "code",
   "execution_count": null,
   "metadata": {
    "id": "CEOKI8JZgkL0"
   },
   "outputs": [],
   "source": [
    "print(\"Below you can see the best parameters chosen by the model:\")\n",
    "pprint(rf_random.best_params_)"
   ]
  },
  {
   "cell_type": "code",
   "execution_count": null,
   "metadata": {
    "id": "FUw_wPlrgkXX"
   },
   "outputs": [],
   "source": [
    "# evaluate Random Search Model\n",
    "\n",
    "best_random = rf_random.best_estimator_\n",
    "pred_rf_random = rf_random.predict(X_test)\n",
    "rf_random_accuracy = evaluate(best_random, X_test, y_test, pred_rf_random)"
   ]
  },
  {
   "cell_type": "markdown",
   "metadata": {
    "id": "oRk48FnjhDg3"
   },
   "source": [
    "maxDepth Grid Search with Cross Validation\n"
   ]
  },
  {
   "cell_type": "code",
   "execution_count": null,
   "metadata": {
    "id": "93pyHzQTaUHl"
   },
   "outputs": [],
   "source": [
    "# Create the parameter grid based on the results of Random Search \n",
    "\n",
    "# Number of trees in random forest\n",
    "n_estimators2 = [1500,1600,1700]\n",
    "# Maximum number of levels in tree\n",
    "max_depth = [48,50,52]\n",
    "# Number of features to consider at every split\n",
    "max_features2 = [\"sqrt\"]\n",
    "# Minimum number of samples required at each leaf node\n",
    "min_samples_leaf2 = [1]\n",
    "# Minimum number of samples required to split a node\n",
    "min_samples_split2 = [9,10,11]\n",
    "# Method of selecting samples for training each tree\n",
    "bootstrap2 = [True]\n",
    "\n",
    "# 3*3*1*1*3*1 = 27 possible settings which will be tested\n",
    "\n",
    "param_grid = {\"n_estimators\": n_estimators2,\n",
    "               \"max_features\": max_features2,\n",
    "               \"min_samples_leaf\": min_samples_leaf2,\n",
    "              \"min_samples_split\": min_samples_split2,\n",
    "               \"bootstrap\": bootstrap2}\n"
   ]
  },
  {
   "cell_type": "code",
   "execution_count": null,
   "metadata": {
    "id": "HwDPLBS3gkbh"
   },
   "outputs": [],
   "source": [
    "# Generate Grid Search Model\n",
    "rf_grid = GridSearchCV(estimator = rf_default, param_grid = param_grid, \n",
    "                          cv = 3, n_jobs = -1, verbose = 9)\n",
    "rf_grid.fit(X_train,y_train)"
   ]
  },
  {
   "cell_type": "code",
   "execution_count": null,
   "metadata": {
    "id": "blRXj2VtgkVL"
   },
   "outputs": [],
   "source": [
    "print(\"Below you can see the best parameters chosen by the model:\\n\")\n",
    "pprint(rf_grid.best_params_)"
   ]
  },
  {
   "cell_type": "code",
   "execution_count": null,
   "metadata": {
    "id": "wBLSsVGmgkSd"
   },
   "outputs": [],
   "source": [
    "# evaluate Grid Search Model\n",
    "best_grid = rf_grid.best_estimator_\n",
    "pred_rf_grid = best_grid.predict(X_test)\n",
    "rf_grid_accuracy = evaluate(best_grid, X_test, y_test, pred_rf_grid)"
   ]
  },
  {
   "cell_type": "code",
   "execution_count": null,
   "metadata": {
    "id": "wypH7By7Whw4"
   },
   "outputs": [],
   "source": [
    "best_grid \n",
    "\n",
    "# save this setting as maxDepth"
   ]
  },
  {
   "cell_type": "code",
   "execution_count": null,
   "metadata": {
    "id": "ONZ6oIncXE1G"
   },
   "outputs": [],
   "source": [
    "rf_maxDepth = RandomForestRegressor(bootstrap=True, ccp_alpha=0.0, criterion='mse',\n",
    "                      max_depth=None, max_features='sqrt', max_leaf_nodes=None,\n",
    "                      max_samples=None, min_impurity_decrease=0.0,\n",
    "                      min_impurity_split=None, min_samples_leaf=1,\n",
    "                      min_samples_split=11, min_weight_fraction_leaf=0.0,\n",
    "                      n_estimators=1700, n_jobs=None, oob_score=False,\n",
    "                      random_state=4, verbose=0, warm_start=False)\n",
    "rf_maxDepth.fit(X_train,y_train)"
   ]
  },
  {
   "cell_type": "markdown",
   "metadata": {
    "id": "1rvUoCOqWyJA"
   },
   "source": [
    "##### lessDepth model Grid Search"
   ]
  },
  {
   "cell_type": "markdown",
   "metadata": {
    "id": "BH7r3mWUW1uc"
   },
   "source": [
    "lessDepth RF Hyperparameter Tuning"
   ]
  },
  {
   "cell_type": "code",
   "execution_count": null,
   "metadata": {
    "id": "mj3LWvkIW1Ib"
   },
   "outputs": [],
   "source": [
    "# Random Hyperparameter Grid lessDEPTH\n",
    "\n",
    "# Number of trees in random forest; 4 tests: 500 to 2000 trees in steps of 500\n",
    "n_estimators = [int(x) for x in np.linspace(start = 1000, stop = 2000, num = 6)]\n",
    "# Maximum number of levels in tree\n",
    "max_depth = [int(x) for x in np.linspace(50, 60, num = 2)]\n",
    "max_depth.append(None)\n",
    "# Number of features to consider at every split; 4 tests\n",
    "max_features = [int(p/ 2.0), 'sqrt', \"log2\"]\n",
    "# Minimum number of samples required at each leaf node; 3 tests\n",
    "min_samples_leaf = [1, 2, 4]\n",
    "# Minimum number of samples required to split a node; 2 tests\n",
    "min_samples_split = [2, 5, 10]\n",
    "# Method of selecting samples for training each tree; 1 test\n",
    "bootstrap = [True]\n",
    "\n"
   ]
  },
  {
   "cell_type": "code",
   "execution_count": null,
   "metadata": {
    "id": "-xUgk3NAW1LN"
   },
   "outputs": [],
   "source": [
    "# Random Grid less Depth\n",
    "\n",
    "random_grid = {\"n_estimators\": n_estimators,\n",
    "               \"max_depth\": max_depth,\n",
    "               \"max_features\": max_features,\n",
    "               \"min_samples_leaf\": min_samples_leaf,\n",
    "               \"min_samples_split\":min_samples_split,\n",
    "               \"bootstrap\": bootstrap}"
   ]
  },
  {
   "cell_type": "code",
   "execution_count": null,
   "metadata": {
    "id": "-Hc8d66EW1Oq"
   },
   "outputs": [],
   "source": [
    "pprint(random_grid)"
   ]
  },
  {
   "cell_type": "code",
   "execution_count": null,
   "metadata": {
    "colab": {
     "base_uri": "https://localhost:8080/"
    },
    "id": "iViL7Dq4W1Sg",
    "outputId": "4af7bd1a-d22f-4813-944a-813951f4a892"
   },
   "outputs": [],
   "source": [
    "# Training Random Search of Hyperparameter\n",
    "# Use the random grid to search for best hyperparameters\n",
    "# Random search of parameters, using 3 fold cross validation, \n",
    "# search across 100 different combinations, and use all available cores, (-> not more due to computation time!)\n",
    "rf_random = RandomizedSearchCV(estimator = rf_default, param_distributions = random_grid, n_iter = 100, cv = 3, verbose=7, random_state=4, n_jobs = -1)\n",
    "# Fit the random search model\n",
    "rf_random.fit(X_train,y_train)"
   ]
  },
  {
   "cell_type": "code",
   "execution_count": null,
   "metadata": {
    "id": "sx7oMr1_Xj5E"
   },
   "outputs": [],
   "source": [
    "print(\"Below you can see the best parameters chosen by the model:\")\n",
    "pprint(rf_random.best_params_)"
   ]
  },
  {
   "cell_type": "code",
   "execution_count": null,
   "metadata": {
    "id": "T2oWrfhwXj8G"
   },
   "outputs": [],
   "source": [
    "# evaluate Random Search Model\n",
    "\n",
    "best_random = rf_random.best_estimator_\n",
    "pred_rf_random = rf_random.predict(X_test)\n",
    "rf_random_accuracy = evaluate(best_random, X_test, y_test, pred_rf_random)"
   ]
  },
  {
   "cell_type": "markdown",
   "metadata": {
    "id": "tsdQeLBDXreV"
   },
   "source": [
    "lessDepth Grid Search with Cross Validation\n"
   ]
  },
  {
   "cell_type": "code",
   "execution_count": null,
   "metadata": {
    "id": "EvfxoD7GXj_F"
   },
   "outputs": [],
   "source": [
    "# Create the parameter grid based on the results of Random Search \n",
    "\n",
    "# Number of trees in random forest\n",
    "n_estimators2 = [1500,1600,1700]\n",
    "# Maximum number of levels in tree\n",
    "max_depth = [48,50,52]\n",
    "# Number of features to consider at every split\n",
    "max_features2 = [\"sqrt\"]\n",
    "# Minimum number of samples required at each leaf node\n",
    "min_samples_leaf2 = [1]\n",
    "# Minimum number of samples required to split a node\n",
    "min_samples_split2 = [9,10,11]\n",
    "# Method of selecting samples for training each tree\n",
    "bootstrap2 = [True]\n",
    "\n",
    "# 3*3*1*1*3*1 = 27 possible settings which will be tested\n",
    "\n",
    "param_grid2 = {\"n_estimators\": n_estimators2,\n",
    "               \"max_features\": max_features2,\n",
    "               \"min_samples_leaf\": min_samples_leaf2,\n",
    "              \"min_samples_split\": min_samples_split2,\n",
    "               \"bootstrap\": bootstrap2}\n"
   ]
  },
  {
   "cell_type": "code",
   "execution_count": null,
   "metadata": {
    "id": "rCc6vzSJXkOJ"
   },
   "outputs": [],
   "source": [
    "# Generate Grid Search Model\n",
    "rf_grid2 = GridSearchCV(estimator = rf_default, param_grid = param_grid2, \n",
    "                          cv = 3, n_jobs = -1, verbose = 9)\n",
    "rf_grid2.fit(X_train,y_train)"
   ]
  },
  {
   "cell_type": "code",
   "execution_count": null,
   "metadata": {
    "id": "YEFQkRYPX2Gf"
   },
   "outputs": [],
   "source": [
    "print(\"Below you can see the best parameters chosen by the model:\\n\")\n",
    "pprint(rf_grid2.best_params_)"
   ]
  },
  {
   "cell_type": "code",
   "execution_count": null,
   "metadata": {
    "id": "wwaLgfqIX2Ko"
   },
   "outputs": [],
   "source": [
    "# evaluate Grid Search Model\n",
    "best_grid2 = rf_grid2.best_estimator_\n",
    "pred_rf_grid2 = rf_grid2.predict(X_test)\n",
    "evaluate(best_grid2, X_test, y_test, pred_rf_grid2)"
   ]
  },
  {
   "cell_type": "code",
   "execution_count": null,
   "metadata": {
    "id": "guFvQuDyX2Oz"
   },
   "outputs": [],
   "source": [
    "best_grid2\n",
    "\n",
    "# save this setting as lesDepth"
   ]
  },
  {
   "cell_type": "code",
   "execution_count": null,
   "metadata": {
    "id": "xLfyYHnqX2VB"
   },
   "outputs": [],
   "source": [
    "rf_lessDepth = RandomForestRegressor(bootstrap=True, ccp_alpha=0.0, criterion='mse',\n",
    "                      max_depth=68, max_features='sqrt', max_leaf_nodes=None,\n",
    "                      max_samples=None, min_impurity_decrease=0.0,\n",
    "                      min_impurity_split=None, min_samples_leaf=1,\n",
    "                      min_samples_split=11, min_weight_fraction_leaf=0.0,\n",
    "                      n_estimators=1900, n_jobs=None, oob_score=False,\n",
    "                      random_state=4, verbose=0, warm_start=False)\n",
    "\n",
    "rf_lessDepth.fit(X_train,y_train)"
   ]
  },
  {
   "cell_type": "markdown",
   "metadata": {
    "id": "AQyNiwkuCai8"
   },
   "source": [
    "### OLS"
   ]
  },
  {
   "cell_type": "markdown",
   "metadata": {
    "id": "jBClNY6hGKvG"
   },
   "source": [
    "Baseline Model"
   ]
  },
  {
   "cell_type": "code",
   "execution_count": null,
   "metadata": {
    "id": "7SrTM0BSV_qt"
   },
   "outputs": [],
   "source": [
    "# Linear Regression\n",
    "lm = linear_model.LinearRegression()\n",
    "lm.fit(X_train, y_train)\n",
    "\n",
    "# Predict\n",
    "y_ols = lm.predict(X_test)"
   ]
  },
  {
   "cell_type": "markdown",
   "metadata": {
    "id": "GH_bMOEscbAm"
   },
   "source": [
    "Calculating the MSE"
   ]
  },
  {
   "cell_type": "code",
   "execution_count": null,
   "metadata": {
    "colab": {
     "base_uri": "https://localhost:8080/"
    },
    "id": "LkZE1Pv2WC5D",
    "outputId": "b3af1f2d-6fd2-4dab-8fd9-1fcc5144ae97"
   },
   "outputs": [],
   "source": [
    "mean_squared_error(y_test, y_ols)"
   ]
  },
  {
   "cell_type": "markdown",
   "metadata": {
    "id": "xPSvuLAObGU1"
   },
   "source": [
    "### Ridge Regression"
   ]
  },
  {
   "cell_type": "markdown",
   "metadata": {
    "id": "oO-pwgRJcdMM"
   },
   "source": [
    "Setting up empty lists and alphas (= penalty parameter)"
   ]
  },
  {
   "cell_type": "code",
   "execution_count": null,
   "metadata": {
    "id": "oqjHrcpebIoD"
   },
   "outputs": [],
   "source": [
    "n = len(X_train)\n",
    "\n",
    "# Init alpha grid\n",
    "n_grid = 100\n",
    "alphas = 10**np.linspace(-2,5,n_grid).reshape(-1,1)\n",
    "ridge = Ridge()\n",
    "\n",
    "# Create empty lists to save the results\n",
    "ridge_coefs = []\n",
    "ridge_MSE = []\n",
    "\n",
    "# Resetting the index\n",
    "y_ridge = y_test.reset_index()"
   ]
  },
  {
   "cell_type": "markdown",
   "metadata": {
    "id": "5GqsXxONcn0U"
   },
   "source": [
    "For every penalty parameter, make predictions"
   ]
  },
  {
   "cell_type": "code",
   "execution_count": null,
   "metadata": {
    "id": "vz63E4J0bR5X"
   },
   "outputs": [],
   "source": [
    "# Loop over values of alpha\n",
    "for a in alphas:\n",
    "    ridge.set_params(alpha = a)\n",
    "    ridge.fit(X_train, y_train)\n",
    "\n",
    "    # Saving the coefficients\n",
    "    ridge_coefs.append(ridge.coef_)\n",
    "\n",
    "    # Predicting\n",
    "    y_pred = ridge.predict(X_test)\n",
    "\n",
    "    # Appending the results\n",
    "    y_pred = pd.DataFrame(y_pred, columns=[\"pred\"])\n",
    "    y_ridge = pd.concat([y_ridge, y_pred], axis=1, ignore_index = False)\n",
    "\n",
    "y_ridge = y_ridge.drop(['index'], axis=1)"
   ]
  },
  {
   "cell_type": "markdown",
   "metadata": {
    "id": "hNfXz1DZcuun"
   },
   "source": [
    "Calculate the MSE"
   ]
  },
  {
   "cell_type": "code",
   "execution_count": null,
   "metadata": {
    "id": "ZFysq74HbTrI"
   },
   "outputs": [],
   "source": [
    "# MSE\n",
    "for i in range(1, len(y_ridge.columns), 1):\n",
    "  ridge_MSE.append(mean_squared_error(y_ridge.iloc[:, 0], y_ridge.iloc[:, i]))"
   ]
  },
  {
   "cell_type": "code",
   "execution_count": null,
   "metadata": {
    "colab": {
     "base_uri": "https://localhost:8080/"
    },
    "id": "nZKddRRlbWre",
    "outputId": "80691a5b-23de-4ee3-a368-dfb869b3d59b"
   },
   "outputs": [],
   "source": [
    "print(\"Coefficients enabling the lowest MSE: \")\n",
    "print(ridge_coefs[ridge_MSE.index(min(ridge_MSE))])\n",
    "print(\"\")\n",
    "print(\"Alpha enabling the highest lowest MSE: \")\n",
    "print(alphas[ridge_MSE.index(min(ridge_MSE))])"
   ]
  },
  {
   "cell_type": "code",
   "execution_count": null,
   "metadata": {
    "colab": {
     "base_uri": "https://localhost:8080/",
     "height": 312
    },
    "id": "UxXdC7TJbagl",
    "outputId": "dfa39763-3665-4cf2-c80b-6a70e7e37bc6"
   },
   "outputs": [],
   "source": [
    "fig, (ax1) = plt.subplots(1,1)\n",
    "fig.suptitle('Ridge Regression Coefficients')\n",
    "\n",
    "# Plot coefficients - absolute\n",
    "ax1.plot(alphas, ridge_coefs, c='grey', alpha=0.3)\n",
    "ax1.set_xscale('log')\n",
    "ax1.set_xlabel('lambda'); ax1.set_ylabel('Standardized coefficients');"
   ]
  },
  {
   "cell_type": "markdown",
   "metadata": {
    "id": "JezxwzSxcz88"
   },
   "source": [
    "Visualizing the best and worst predictions. The last graph solely plots the actual lnpercapitaconsumption."
   ]
  },
  {
   "cell_type": "code",
   "execution_count": null,
   "metadata": {
    "colab": {
     "base_uri": "https://localhost:8080/",
     "height": 311
    },
    "id": "7aiVtoY_bcZu",
    "outputId": "a3458742-dc63-4511-ba00-61d3c87dcad6"
   },
   "outputs": [],
   "source": [
    "fig, (ax1, ax2) = plt.subplots(1, 2)\n",
    "fig.suptitle('Predicted (x-axis) and Actual (y-axis) lnpercapitaconsumption')\n",
    "ax1.scatter(y_ridge.iloc[:, ridge_MSE.index(min(ridge_MSE))+1], y_ridge[\"lnpercapitaconsumption\"], color = \"green\", alpha = 0.1)\n",
    "ax2.scatter(y_ridge.iloc[:, ridge_MSE.index(max(ridge_MSE))+1], y_ridge[\"lnpercapitaconsumption\"], color = \"red\", alpha = 0.1)"
   ]
  },
  {
   "cell_type": "markdown",
   "metadata": {
    "id": "Dr6R75r4dM5e"
   },
   "source": [
    "Calculating the MSE"
   ]
  },
  {
   "cell_type": "code",
   "execution_count": null,
   "metadata": {
    "colab": {
     "base_uri": "https://localhost:8080/"
    },
    "id": "03I2QOvFdTOT",
    "outputId": "724e22d4-132f-41ae-e544-6e4e45b90b87"
   },
   "outputs": [],
   "source": [
    "print(min(ridge_MSE))\n",
    "ridgeMSE = min(ridge_MSE)"
   ]
  },
  {
   "cell_type": "markdown",
   "metadata": {
    "id": "fSzCtcq3QIgn"
   },
   "source": [
    "Saving best predictions for Ridge Regression"
   ]
  },
  {
   "cell_type": "code",
   "execution_count": null,
   "metadata": {
    "colab": {
     "base_uri": "https://localhost:8080/"
    },
    "id": "C9RwsiH-lHSf",
    "outputId": "084ceeea-540f-44ab-9b65-6a399350f2fe"
   },
   "outputs": [],
   "source": [
    "y_pred_ridge = y_ridge.iloc[:, ridge_MSE.index(min(ridge_MSE))+1]\n",
    "y_pred_ridge"
   ]
  },
  {
   "cell_type": "markdown",
   "metadata": {
    "id": "juIlTx50bFUb"
   },
   "source": [
    "### Lasso"
   ]
  },
  {
   "cell_type": "code",
   "execution_count": null,
   "metadata": {
    "id": "Jsa71HKmbZrx"
   },
   "outputs": [],
   "source": [
    "# Get MSE\n",
    "def cv_lasso(X,y,a):\n",
    "    # Init mse\n",
    "    mse = []\n",
    "    \n",
    "    # Generate splits\n",
    "    kf10 = KFold(n_splits=10, random_state=None, shuffle=False)\n",
    "    kf10.get_n_splits(X)\n",
    "    \n",
    "    # Loop over splits\n",
    "    for train_index, test_index in kf10.split(X):\n",
    "        X_train, X_test = X.iloc[train_index], X.iloc[test_index]\n",
    "        y_train, y_test = y.iloc[train_index], y.iloc[test_index]\n",
    "        lasso = Lasso(alpha=a).fit(X_train, y_train)\n",
    "        y_hat = lasso.predict(X_test)\n",
    "        mse.append(mean_squared_error(y_test, y_hat))\n",
    "    return np.mean(mse)"
   ]
  },
  {
   "cell_type": "code",
   "execution_count": null,
   "metadata": {
    "id": "q_Rx2EsBbeJY"
   },
   "outputs": [],
   "source": [
    "# Compute MSE over grid of alphas\n",
    "n_grid = 50\n",
    "alphas = np.logspace(-4,0, n_grid).reshape(-1,1)\n",
    "MSE = [cv_lasso(X,y,a) for a in alphas]"
   ]
  },
  {
   "cell_type": "code",
   "execution_count": null,
   "metadata": {
    "colab": {
     "base_uri": "https://localhost:8080/"
    },
    "id": "NXZ7GyA6bhj7",
    "outputId": "6aa89e0d-d3d0-4e81-9f71-cd3fcc3dfb75"
   },
   "outputs": [],
   "source": [
    "# Find minimum alpha\n",
    "alpha_min = alphas[np.argmin(MSE)]\n",
    "print('Best alpha by 10fold CV:',alpha_min)\n",
    "print('MSE for best alpha:', min(MSE))\n",
    "lassoMSE = min(MSE)"
   ]
  },
  {
   "cell_type": "code",
   "execution_count": null,
   "metadata": {
    "id": "AlIgKrTYbkxf"
   },
   "outputs": [],
   "source": [
    "# Get coefficients\n",
    "coefs = []\n",
    "\n",
    "# Loop over values of alpha\n",
    "for a in alphas:\n",
    "    lasso = Lasso(alpha=a).fit(scale(X), y)\n",
    "    coefs.append(lasso.coef_)\n",
    "coefs = np.reshape(coefs,(n_grid,-1))"
   ]
  },
  {
   "cell_type": "code",
   "execution_count": null,
   "metadata": {
    "colab": {
     "base_uri": "https://localhost:8080/",
     "height": 296
    },
    "id": "vvaeVdwjbn0s",
    "outputId": "e12c0133-4f46-42c9-9576-c172b5ba8d7c"
   },
   "outputs": [],
   "source": [
    "# MSE by 10-Fold CV\n",
    "plt.plot(alphas, MSE, alpha=1)\n",
    "plt.xlabel('Lambda')\n",
    "plt.ylabel('MSE')\n",
    "plt.axvline(alpha_min, c='k', ls='--')"
   ]
  },
  {
   "cell_type": "code",
   "execution_count": null,
   "metadata": {
    "id": "vkvtVyc0brNa"
   },
   "outputs": [],
   "source": [
    "lasso = Lasso(alpha_min)\n",
    "lasso.fit(X_train, y_train)\n",
    "y_pred_lasso = lasso.predict(X_test)"
   ]
  },
  {
   "cell_type": "code",
   "execution_count": null,
   "metadata": {
    "colab": {
     "base_uri": "https://localhost:8080/"
    },
    "id": "EWonAA6xKklX",
    "outputId": "e78902ae-ac08-4113-bbf3-6c1b13841b52"
   },
   "outputs": [],
   "source": [
    "# Maxime Changed that\n",
    "# mean_squared_error(y_pred_lasso, results.loc[\"y_test\"])\n",
    "mean_squared_error(y_pred_lasso, y_test)"
   ]
  },
  {
   "cell_type": "code",
   "execution_count": null,
   "metadata": {
    "id": "fPD2HPa4f6pN"
   },
   "outputs": [],
   "source": [
    "y_pred_lasso = pd.DataFrame(y_pred_lasso, columns=[\"y_pred_lasso\"])\n",
    "y_test.index = np.arange(0, len(y_test))"
   ]
  },
  {
   "cell_type": "code",
   "execution_count": null,
   "metadata": {
    "id": "5Vv8JsN9hOTR"
   },
   "outputs": [],
   "source": [
    "results = pd.merge(y_pred_lasso, results, left_index=True, right_index=True)\n",
    "results"
   ]
  },
  {
   "cell_type": "markdown",
   "metadata": {
    "id": "u5-6hVCT9Mai"
   },
   "source": [
    "# Results"
   ]
  },
  {
   "cell_type": "markdown",
   "metadata": {
    "id": "cP0Nd_lwey5G"
   },
   "source": [
    "## Binarization\n",
    "Converting the regression results into binary classes (poor/not_poor) based on quantile threshold"
   ]
  },
  {
   "cell_type": "code",
   "execution_count": null,
   "metadata": {
    "id": "KVaAq3iXZ0t0"
   },
   "outputs": [],
   "source": [
    "def convert_to_bin(y,quantile):\n",
    "  # predicted poor\n",
    "  y_bin = [1 if x > np.quantile(y,quantile) else 0 for x in y] \n",
    "\n",
    "  return y_bin"
   ]
  },
  {
   "cell_type": "markdown",
   "metadata": {
    "id": "BBMZqGRZBEEA"
   },
   "source": [
    "### Quantile = 0.25"
   ]
  },
  {
   "cell_type": "code",
   "execution_count": null,
   "metadata": {
    "id": "ft-h_EkMFLBz"
   },
   "outputs": [],
   "source": [
    "quant = 0.20\n",
    "y_pred_ridge_bin20 = convert_to_bin(y_pred_ridge,quant)\n",
    "y_pred_ridge_bin20"
   ]
  },
  {
   "cell_type": "code",
   "execution_count": null,
   "metadata": {
    "colab": {
     "base_uri": "https://localhost:8080/",
     "height": 375
    },
    "id": "shP1bzl07LCE",
    "outputId": "323fc3f2-3e95-4643-a882-a1ac4a859890"
   },
   "outputs": [],
   "source": [
    "# binarize using quantile = 0.25\n",
    "quant = 0.25\n",
    "y_test_bin25 = convert_to_bin(y_test,quant)\n",
    "y_pred_lasso_bin25 = convert_to_bin(y_pred_lasso,quant)\n",
    "y_pred_ridge_bin25 = convert_to_bin(y_pred_ridge,quant)\n",
    "y_pred_lessDepth_bin25 = convert_to_bin(y_pred_lessDepth,quant)\n",
    "y_pred_maxDepth_bin25 = convert_to_bin(y_pred_maxDepth,quant)"
   ]
  },
  {
   "cell_type": "markdown",
   "metadata": {
    "id": "WbfE6iuSBQ_Z"
   },
   "source": [
    "### Quantile = 0.30"
   ]
  },
  {
   "cell_type": "code",
   "execution_count": null,
   "metadata": {
    "colab": {
     "base_uri": "https://localhost:8080/",
     "height": 375
    },
    "id": "ZaXe8qJK98kx",
    "outputId": "a890336e-bf8b-47d1-fdd4-020071385239"
   },
   "outputs": [],
   "source": [
    "# binarize using quantile = 0.30\n",
    "quant = 0.30\n",
    "y_test_bin30 = convert_to_bin(y_test,quant)\n",
    "y_pred_lasso_bin30 = convert_to_bin(y_pred_lasso,quant)\n",
    "y_pred_ridge_bin30 = convert_to_bin(y_pred_ridge,quant)\n",
    "y_pred_lessDepth_bin30 = convert_to_bin(y_pred_lessDepth,quant)\n",
    "y_pred_maxDepth_bin30 = convert_to_bin(y_pred_maxDepth,quant)"
   ]
  },
  {
   "cell_type": "markdown",
   "metadata": {
    "id": "WdSVDdwkBTBs"
   },
   "source": [
    "### Quantile = 0.20"
   ]
  },
  {
   "cell_type": "code",
   "execution_count": null,
   "metadata": {
    "colab": {
     "base_uri": "https://localhost:8080/",
     "height": 375
    },
    "id": "TkXuZ44P9-NT",
    "outputId": "f5727ea1-fb3e-47d1-e0f8-5f235be1c564"
   },
   "outputs": [],
   "source": [
    "# binarize using quantile = 0.20\n",
    "quant = 0.20\n",
    "y_test_bin20 = convert_to_bin(y_test,quant)\n",
    "y_pred_lasso_bin20 = convert_to_bin(y_pred_lasso,quant)\n",
    "y_pred_ridge_bin20 = convert_to_bin(y_pred_ridge,quant)\n",
    "y_pred_lessDepth_bin20 = convert_to_bin(y_pred_lessDepth,quant)\n",
    "y_pred_maxDepth_bin20 = convert_to_bin(y_pred_maxDepth,quant)"
   ]
  },
  {
   "cell_type": "markdown",
   "metadata": {
    "id": "iaXUESku3D6i"
   },
   "source": [
    "## Measuring Performance of Classification:\n",
    "- **recall** = ratio of true positives to actual positives\n",
    "- **fallout rate** = ratio of false positives to actual negatives\n",
    "- **specificity** = the inverse of fallout rate\n",
    "- **precision** = ratio of true positives to predicted positives\n",
    "- **accuracy** = correctly guessed points divided by the total number of points"
   ]
  },
  {
   "cell_type": "code",
   "execution_count": null,
   "metadata": {
    "id": "VQHlnsqS3D6i"
   },
   "outputs": [],
   "source": [
    "# function used for plotting the confusion matrix and calculating the metrics presented above\n",
    "\n",
    "def plot_confusion_matrix(y_true, y_pred, classes,\n",
    "                          normalize=False,\n",
    "                          title=None,\n",
    "                          cmap=plt.cm.Blues,\n",
    "                         name_of_fig = \"figure.png\"):\n",
    "    \"\"\"\n",
    "    This function prints and plots the confusion matrix.\n",
    "    Normalization can be applied by setting `normalize=True`.\n",
    "    \"\"\"\n",
    "    if not title:\n",
    "        if normalize:\n",
    "            title = 'Normalized confusion matrix'\n",
    "        else:\n",
    "            title = 'Confusion matrix, without normalization'\n",
    "\n",
    "    # Compute confusion matrix\n",
    "    cm = confusion_matrix(y_true, y_pred)\n",
    "    # Only use the labels that appear in the data\n",
    "    classes = classes[unique_labels(y_true, y_pred)]\n",
    "    if normalize:\n",
    "        cm = cm.astype('float') / cm.sum(axis=1)[:, np.newaxis]\n",
    "        print(\"Normalized confusion matrix\")\n",
    "    else:\n",
    "        print('Confusion matrix, without normalization')\n",
    "    \n",
    "    tot = len(y_true)\n",
    "    TP = cm[0,0]\n",
    "    TN = cm[1,1]\n",
    "    FP = cm[1,0]\n",
    "    FN = cm[0,1]\n",
    "\n",
    "    fig, ax = plt.subplots()\n",
    "    im = ax.imshow(cm, interpolation='nearest', cmap=cmap)\n",
    "    ax.figure.colorbar(im, ax=ax)\n",
    "    # We want to show all ticks...\n",
    "    ax.set(xticks=np.arange(cm.shape[1]),\n",
    "           yticks=np.arange(cm.shape[0]),\n",
    "           # ... and label them with the respective list entries\n",
    "           xticklabels=classes, yticklabels=classes,\n",
    "           title=title,\n",
    "           ylabel='Actual label',\n",
    "           xlabel='Predicted label')\n",
    "\n",
    "    # Rotate the tick labels and set their alignment.\n",
    "    plt.setp(ax.get_xticklabels(), rotation=45, ha=\"right\",\n",
    "             rotation_mode=\"anchor\")\n",
    "\n",
    "    # Loop over data dimensions and create text annotations.\n",
    "    fmt = '.2f' if normalize else 'd'\n",
    "    thresh = cm.max() / 2.\n",
    "    for i in range(cm.shape[0]):\n",
    "        for j in range(cm.shape[1]):\n",
    "            ax.text(j, i, format(cm[i, j], fmt),\n",
    "                    ha=\"center\", va=\"center\",\n",
    "                    color=\"white\" if cm[i, j] > thresh else \"black\")\n",
    "    fig.tight_layout()\n",
    "    plt.savefig(name_of_fig)\n",
    "    \n",
    "    totalAccuracy = (TP+TN)/(FP+FN+TP+TN)   \n",
    "    povertyAccuracy = TP/(TP+FN)\n",
    "    leakage = FP/(TP+FN)\n",
    "    undercoverage = FN/(TP+FN)\n",
    "    BPAC = TP/(TP+FN)-abs(FN/(TP+FN)-FP/(TP+FN))\n",
    "\n",
    "    print(\"Total Accuracy = \", totalAccuracy)\n",
    "    print(\"Poverty Accuracy = \", povertyAccuracy)\n",
    "    print(\"Leakage = \", leakage)\n",
    "    print(\"Undercoverage = \", undercoverage)\n",
    "    print(\"BPAC = \", BPAC)\n",
    "\n",
    "    return BPAC"
   ]
  },
  {
   "cell_type": "markdown",
   "metadata": {
    "id": "VNCLfYbv_pyL"
   },
   "source": [
    "### Confusion matrices for quantile = 25"
   ]
  },
  {
   "cell_type": "code",
   "execution_count": null,
   "metadata": {
    "colab": {
     "base_uri": "https://localhost:8080/",
     "height": 181
    },
    "id": "1RrYBno63D6i",
    "outputId": "1fa7b08c-104d-4ec2-a352-039408148a5c"
   },
   "outputs": [],
   "source": [
    "BPAC_lasso25 = plot_confusion_matrix(y_test_bin25, y_pred_lasso_bin25, classes=np.array([\"poor\", 'not poor']),\n",
    "                      title='Confusion matrix for Lasso')"
   ]
  },
  {
   "cell_type": "code",
   "execution_count": null,
   "metadata": {
    "colab": {
     "base_uri": "https://localhost:8080/",
     "height": 416
    },
    "id": "uvVCVNhRsy72",
    "outputId": "3296448c-cf73-4de9-fe98-ae6324ccf2fc"
   },
   "outputs": [],
   "source": [
    "BPAC_ridge25 = plot_confusion_matrix(y_test_bin25, y_pred_ridge_bin25, classes=np.array([\"poor\", 'not poor']),\n",
    "                      title='Confusion matrix for Ridge')"
   ]
  },
  {
   "cell_type": "code",
   "execution_count": null,
   "metadata": {
    "id": "2IZcuotrs4Fs"
   },
   "outputs": [],
   "source": [
    "ax_lessdepth25 = plot_confusion_matrix(y_test_bin25, y_pred_lessDepth_bin25, classes=np.array([\"poor\", 'not poor']),\n",
    "                      title='Confusion matrix for RF max-depth model', name_of_fig=\"lessDepth25\")"
   ]
  },
  {
   "cell_type": "code",
   "execution_count": null,
   "metadata": {
    "id": "APcvzSaV_neD"
   },
   "outputs": [],
   "source": [
    "ax_maxdepth25 = plot_confusion_matrix(y_test_bin25, y_pred_maxDepth_bin25, classes=np.array([\"poor\", 'not poor']),\n",
    "                      title='Confusion matrix for RF max-depth model')"
   ]
  },
  {
   "cell_type": "code",
   "execution_count": null,
   "metadata": {
    "id": "eeFKRTGRFvXj"
   },
   "outputs": [],
   "source": [
    "print(\"BPAC_lasso with 0.25 quantile =\", BPAC_lasso25)\n",
    "print(\"BPAC_ridge with 0.25 quantile =\", BPAC_ridge25)\n",
    "print(\"BPAC_lessdepth with 0.25 quantile =\", BPAC_lessdepth25)\n",
    "print(\"BPAC_maxdepth with 0.25 quantile =\", BPAC_maxdepth25)"
   ]
  },
  {
   "cell_type": "markdown",
   "metadata": {
    "id": "lTpiIuGYBVVd"
   },
   "source": [
    "### Confusion matrices for quantile = 20"
   ]
  },
  {
   "cell_type": "code",
   "execution_count": null,
   "metadata": {
    "id": "7XIIc_lkBVVd"
   },
   "outputs": [],
   "source": [
    "BPAC_lasso20 = plot_confusion_matrix(y_test_bin20, y_pred_lasso_bin20, classes=np.array([\"poor\", 'not poor']),\n",
    "                      title='Confusion matrix for Lasso')"
   ]
  },
  {
   "cell_type": "code",
   "execution_count": null,
   "metadata": {
    "colab": {
     "base_uri": "https://localhost:8080/",
     "height": 416
    },
    "id": "8fRSzNcSBVVe",
    "outputId": "07a0dff8-3319-447d-9767-a70b464c1db6"
   },
   "outputs": [],
   "source": [
    "BPAC_ridge20 = plot_confusion_matrix(y_test_bin20, y_pred_ridge_bin20, classes=np.array([\"poor\", 'not poor']),\n",
    "                      title='Confusion matrix for RF max-depth model')"
   ]
  },
  {
   "cell_type": "code",
   "execution_count": null,
   "metadata": {
    "colab": {
     "base_uri": "https://localhost:8080/",
     "height": 416
    },
    "id": "RLXnAVF3BVVe",
    "outputId": "aae56302-4e2a-4ae4-8481-60e6af7da6d0"
   },
   "outputs": [],
   "source": [
    "BPAC_lessdepth20 = plot_confusion_matrix(y_test_bin20, y_pred_lessDepth_bin20, classes=np.array([\"poor\", 'not poor']),\n",
    "                      title='Confusion matrix for RF max-depth model')"
   ]
  },
  {
   "cell_type": "code",
   "execution_count": null,
   "metadata": {
    "colab": {
     "base_uri": "https://localhost:8080/",
     "height": 416
    },
    "id": "mHpQjOcHBVVe",
    "outputId": "79589c40-da22-44da-e728-ca734130cd37"
   },
   "outputs": [],
   "source": [
    "BPAC_maxdepth20 = plot_confusion_matrix(y_test_bin20, y_pred_maxDepth_bin20, classes=np.array([\"poor\", 'not poor']),\n",
    "                      title='Confusion matrix for RF max-depth model')"
   ]
  },
  {
   "cell_type": "code",
   "execution_count": null,
   "metadata": {
    "colab": {
     "base_uri": "https://localhost:8080/"
    },
    "id": "9K8K7VHbFMI9",
    "outputId": "522f945c-7ad4-40d6-db1a-ce67e916339d"
   },
   "outputs": [],
   "source": [
    "print(\"BPAC_lasso with 0.2 quantile =\", BPAC_lasso20)\n",
    "print(\"BPAC_ridge with 0.2 quantile =\", BPAC_ridge20)\n",
    "print(\"BPAC_lessdepth with 0.2 quantile =\", BPAC_lessdepth20)\n",
    "print(\"BPAC_maxdepth with 0.2 quantile =\", BPAC_maxdepth20)"
   ]
  },
  {
   "cell_type": "markdown",
   "metadata": {
    "id": "aUb8sfbMCR6d"
   },
   "source": [
    "### Confusion matrices for quantile = 30"
   ]
  },
  {
   "cell_type": "code",
   "execution_count": null,
   "metadata": {
    "colab": {
     "base_uri": "https://localhost:8080/",
     "height": 416
    },
    "id": "z31rfsRHCR6e",
    "outputId": "9de1ab30-87e0-40cc-824a-4a12c104b500"
   },
   "outputs": [],
   "source": [
    "BPAC_lasso30 = plot_confusion_matrix(y_test_bin30, y_pred_lasso_bin30, classes=np.array([\"poor\", 'not poor']),\n",
    "                      title='Confusion matrix for Lasso')"
   ]
  },
  {
   "cell_type": "code",
   "execution_count": null,
   "metadata": {
    "colab": {
     "base_uri": "https://localhost:8080/",
     "height": 416
    },
    "id": "DXmjjAq8CR6e",
    "outputId": "c0cd3820-9f2e-4c59-83df-51905752bfc8"
   },
   "outputs": [],
   "source": [
    "BPAC_ridge30 = plot_confusion_matrix(y_test_bin30, y_pred_ridge_bin30, classes=np.array([\"poor\", 'not poor']),\n",
    "                      title='Confusion matrix for Ridge')"
   ]
  },
  {
   "cell_type": "code",
   "execution_count": null,
   "metadata": {
    "colab": {
     "base_uri": "https://localhost:8080/",
     "height": 416
    },
    "id": "S5MvbemSCR6e",
    "outputId": "1d0dc12c-7805-4582-d70a-2015a6f61e26"
   },
   "outputs": [],
   "source": [
    "ax_lessdepth30 = plot_confusion_matrix(y_test_bin30, y_pred_lessDepth_bin30, classes=np.array([\"poor\", 'not poor']),\n",
    "                      title='Confusion matrix for RF max-depth model')"
   ]
  },
  {
   "cell_type": "code",
   "execution_count": null,
   "metadata": {
    "colab": {
     "base_uri": "https://localhost:8080/",
     "height": 416
    },
    "id": "fd0osPY-CR6f",
    "outputId": "1caf3fd0-e830-45f8-a3eb-36f0e9a1b617"
   },
   "outputs": [],
   "source": [
    "ax_maxdepth30 = plot_confusion_matrix(y_test_bin30, y_pred_maxDepth_bin30, classes=np.array([\"poor\", 'not poor']),\n",
    "                      title='Confusion matrix for RF max-depth model',name_of_fig=\"maxDepth30\")"
   ]
  },
  {
   "cell_type": "code",
   "execution_count": null,
   "metadata": {
    "id": "ulwD6uXGFnLv"
   },
   "outputs": [],
   "source": [
    "print(\"BPAC_lasso with 0.3 quantile =\", BPAC_lasso30)\n",
    "print(\"BPAC_ridge with 0.3 quantile =\", BPAC_ridge30)\n",
    "print(\"BPAC_lessdepth with 0.3 quantile =\", BPAC_lessdepth30)\n",
    "print(\"BPAC_maxdepth with 0.3 quantile =\", BPAC_maxdepth30)"
   ]
  },
  {
   "cell_type": "markdown",
   "metadata": {
    "id": "19rXfC9k5d3q"
   },
   "source": [
    "### Training on complete Training Set & Predict Values"
   ]
  },
  {
   "cell_type": "code",
   "execution_count": null,
   "metadata": {
    "id": "vf0L25jf5phs"
   },
   "outputs": [],
   "source": [
    "dfPred = pd.DataFrame(dfPred).fillna(0)"
   ]
  },
  {
   "cell_type": "code",
   "execution_count": null,
   "metadata": {
    "id": "thHeAnaE5r_6"
   },
   "outputs": [],
   "source": [
    "XPred = dfPred.iloc[:, df.columns!=\"lnpercapitaconsumption\"]\n",
    "yPred = dfPred.loc[:, \"lnpercapitaconsumption\"]"
   ]
  },
  {
   "cell_type": "code",
   "execution_count": null,
   "metadata": {
    "id": "S8e_Ni0kKaqC"
   },
   "outputs": [],
   "source": [
    "rf_Final = rf_maxDepth\n",
    "rf_Final.fit(X,y)"
   ]
  },
  {
   "cell_type": "code",
   "execution_count": null,
   "metadata": {
    "id": "7_TXU2gIKb3u"
   },
   "outputs": [],
   "source": [
    "y_pred_Final = rf_Final.predict(XPred)"
   ]
  },
  {
   "cell_type": "code",
   "execution_count": null,
   "metadata": {
    "id": "C1UexNtbKb-R"
   },
   "outputs": [],
   "source": [
    "Predictions = pd.DataFrame(y_pred_Final, columns=[\"lnpercapitaconsumption\"])"
   ]
  },
  {
   "cell_type": "code",
   "execution_count": null,
   "metadata": {
    "id": "ZJfS5iyLKcDn"
   },
   "outputs": [],
   "source": [
    "df_Figure5 = Predictions.join(df_later, how= \"right\")\n",
    "lncpc = df_Figure5[\"lnpercapitaconsumption\"]\n",
    "new_values =  np.exp(lncpc)\n",
    "df_Figure5[\"percapitaconsumption\"] = new_values"
   ]
  },
  {
   "cell_type": "code",
   "execution_count": null,
   "metadata": {
    "id": "_faV2B86KcGj"
   },
   "outputs": [],
   "source": [
    "df_Figure5.to_csv('figure5_pred.csv')"
   ]
  }
 ],
 "metadata": {
  "colab": {
   "collapsed_sections": [
    "L0_XVR9L9KKm",
    "li4cvVevCAX7",
    "Kvq1YkxaCh1X",
    "13sbCbnmCmHu",
    "eOLe_lLUehiA",
    "1rvUoCOqWyJA",
    "AQyNiwkuCai8",
    "xPSvuLAObGU1",
    "juIlTx50bFUb",
    "u5-6hVCT9Mai",
    "cP0Nd_lwey5G",
    "BBMZqGRZBEEA",
    "WbfE6iuSBQ_Z",
    "WdSVDdwkBTBs",
    "iaXUESku3D6i",
    "VNCLfYbv_pyL",
    "lTpiIuGYBVVd",
    "aUb8sfbMCR6d",
    "19rXfC9k5d3q"
   ],
   "name": "ML_GroupWork",
   "provenance": []
  },
  "kernelspec": {
   "display_name": "Python 3",
   "language": "python",
   "name": "python3"
  },
  "language_info": {
   "codemirror_mode": {
    "name": "ipython",
    "version": 3
   },
   "file_extension": ".py",
   "mimetype": "text/x-python",
   "name": "python",
   "nbconvert_exporter": "python",
   "pygments_lexer": "ipython3",
   "version": "3.7.6"
  }
 },
 "nbformat": 4,
 "nbformat_minor": 1
}
